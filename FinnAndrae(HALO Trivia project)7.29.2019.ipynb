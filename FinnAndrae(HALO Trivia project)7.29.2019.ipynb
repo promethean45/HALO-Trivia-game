{
 "cells": [
  {
   "cell_type": "markdown",
   "metadata": {},
   "source": [
    "# HALO Trivia Game\n",
    "   ### Be sure to type the answers exactly as displayed, or they will be seen as incorrect"
   ]
  },
  {
   "cell_type": "code",
   "execution_count": null,
   "metadata": {},
   "outputs": [
    {
     "name": "stdout",
     "output_type": "stream",
     "text": [
      "Q: What AI goes on rampage in HALO 5?\n",
      " A: Roland\n",
      " B: Black Box\n",
      " C: Cortana\n",
      " D: Governor Sloan\n",
      "\n"
     ]
    }
   ],
   "source": [
    "SCORE = 0\n",
    "Q1 = \"Q: What AI goes on rampage in HALO 5?\\n A: Roland\\n B: Black Box\\n C: Cortana\\n D: Governor Sloan\\n\"\n",
    "print(Q1)\n",
    "user_choice = input()\n",
    "answerA = \"cortana\"\n",
    "if user_choice.lower() == answerA:\n",
    "    SCORE += 1\n",
    "    print(\"\\nCorrect! In HALO 5, Cortana went AWOL to obtain the mechanical Guardians.\")\n",
    "    print(\"\\nSCORE\"+ str(SCORE))\n",
    "else:\n",
    "    SCORE -= 1\n",
    "    print(\"\\nIncorrect! Try again.\")\n",
    "    print(\"\\nSCORE\"+ str(SCORE))"
   ]
  },
  {
   "cell_type": "code",
   "execution_count": null,
   "metadata": {},
   "outputs": [],
   "source": [
    "Q2 = \"Q: Which character is known for his luck?\\n A: Jameson Locke\\n B: Master Chief\\n C: April Orenski\\n D: LT.Carter-A259\\n\"\n",
    "print(Q2)\n",
    "user_choice = input()\n",
    "answerB = \"master chief\"\n",
    "if user_choice.lower() == answerB:\n",
    "    SCORE += 1\n",
    "    print(\"\\nCorrect! Master Chief has alwways had an unusual amount of luck.\")\n",
    "    print(\"\\nSCORE\"+ str(SCORE))\n",
    "else:\n",
    "    SCORE -= 1\n",
    "    print(\"\\nIncorrect! Try again.\")\n",
    "    print(\"\\nSCORE\"+ str(SCORE))"
   ]
  },
  {
   "cell_type": "code",
   "execution_count": null,
   "metadata": {},
   "outputs": [],
   "source": [
    "Q3 = \"Q: Where did lieutenant Laskey go to school?\\n A: Genesis\\n B: Alluvion\\n C: Reach Academy\\n D: Corbulo Academy\\n\"\n",
    "print(Q3)\n",
    "user_choice = input()\n",
    "answerC = \"corbulo academy\"\n",
    "if user_choice.lower() == answerC:\n",
    "    SCORE += 1\n",
    "    print(\"\\nCorrect! Laskey trained at Corbulo Academy until the early stages of the Covenant War.\")\n",
    "    print(\"\\nSCORE\"+ str(SCORE))\n",
    "else:\n",
    "    SCORE -= 1\n",
    "    print(\"\\nIncorrect! Try again.\")\n",
    "    print(\"\\nSCORE\"+ str(SCORE))"
   ]
  },
  {
   "cell_type": "code",
   "execution_count": null,
   "metadata": {},
   "outputs": [],
   "source": [
    "Q4 = \"Q: What is biofoam used for?\\n A: Sealing deep wounds in battle\\n B: Repairing damaged equipment\\n C: Storing data\\n D: Holding explosives in place\\n\"\n",
    "print(Q4)\n",
    "user_choice = input()\n",
    "answerD = \"sealing deep wounds in battle\"\n",
    "if user_choice.lower() == answerD:\n",
    "    SCORE += 1\n",
    "    print(\"\\nCorrect! Biofoam fills and protects severe injuries to help prevent further damage until proper care can be applied.\")\n",
    "    print(\"\\nSCORE\"+ str(SCORE))\n",
    "else:\n",
    "    SCORE -= 1\n",
    "    print(\"\\nIncorrect! Try again.\")\n",
    "    print(\"\\nSCORE\"+ str(SCORE))\n"
   ]
  },
  {
   "cell_type": "code",
   "execution_count": null,
   "metadata": {},
   "outputs": [],
   "source": [
    "Q5 = \"Q: What is VISR?\\n A: Radar\\n B: A data analysis unit\\n C: A situational awareness unit\\n D: Visual protection\\n\"\n",
    "print(Q5)\n",
    "user_choice = input()\n",
    "answerE = \"a situational awareness unit\"\n",
    "if user_choice.lower() == answerE:\n",
    "    SCORE += 1\n",
    "    print(\"\\nCorrect! VISR helps soldiers, generaly Spartans, view their surroundings with ease.\")\n",
    "    print(\"\\nSCORE\"+ str(SCORE))\n",
    "else:\n",
    "    SCORE -= 1\n",
    "    print(\"\\nIncorrect! Try again.\")\n",
    "    print(\"\\nSCORE\"+ str(SCORE))"
   ]
  },
  {
   "cell_type": "code",
   "execution_count": null,
   "metadata": {},
   "outputs": [],
   "source": [
    "Q6 = \"Q: What is the nickname for the Jiralhanae species?\\n A: Brutes\\n B: Drones\\n C: Grunts\\n D: Elites\\n\"\n",
    "print(Q6)\n",
    "user_choice = input()\n",
    "answerF = \"brutes\"\n",
    "if user_choice.lower() == answerF:\n",
    "    SCORE += 1\n",
    "    print(\"\\nCorrect! The Jiralhanae were nicknamed 'Brutes' because of their size, strength, and tendencies to cause mass destruction.\")\n",
    "    print(\"\\nSCORE\"+ str(SCORE))\n",
    "else:\n",
    "    SCORE -= 1\n",
    "    print(\"\\nIncorrect! Try again.\")\n",
    "    print(\"\\nSCORE\"+ str(SCORE))"
   ]
  },
  {
   "cell_type": "code",
   "execution_count": null,
   "metadata": {},
   "outputs": [],
   "source": [
    "Q7 = \"Q: What are Mgalekgolo?\\n A: A result of technology experiments\\n B: Hundreds of Lekgolo fused together\\n C: An individual alien of a certain race\\n D: None of the above\\n\"\n",
    "print(Q7)\n",
    "user_choice = input()\n",
    "answerG = \"hundreds of lekgolo fused together\"\n",
    "if user_choice.lower() == answerG:\n",
    "    SCORE += 1\n",
    "    print(\"\\nCorrect! By fusing the Lekgolo, or Hunter Worms, together, the Covenant created the Mgalekgolo, or Hunters.\")\n",
    "    print(\"\\nSCORE\"+ str(SCORE))\n",
    "else:\n",
    "    SCORE -= 1\n",
    "    print(\"\\nIncorrect! Try again.\")\n",
    "    print(\"\\nSCORE\"+ str(SCORE))"
   ]
  },
  {
   "cell_type": "code",
   "execution_count": null,
   "metadata": {},
   "outputs": [],
   "source": [
    "Q8 = \"Q: What Covenant vehicles were repurposed for warfare?\\n A: Banshees\\n B: Prowlers\\n C: Choppers\\n D: Revenants\\n\"\n",
    "print(Q8)\n",
    "user_choice = input()\n",
    "answerH = \"choppers\"\n",
    "if user_choice.lower() == answerH:\n",
    "    SCORE += 1\n",
    "    print(\"\\nCorrect! The Choppers were farming vehicles repurposed for destruction.\")\n",
    "    print(\"\\nSCORE\"+ str(SCORE))\n",
    "else:\n",
    "    SCORE -= 1\n",
    "    print(\"\\nIncorrect! Try again.\")\n",
    "    print(\"\\nSCORE\"+ str(SCORE))"
   ]
  },
  {
   "cell_type": "code",
   "execution_count": null,
   "metadata": {},
   "outputs": [],
   "source": [
    "Q9 = \"Q: What Covenant weapon was named after the alien that uses it?\\n A: the Grunt Laser\\n B: the Brute Shot\\n C: the Drone Blaster\\n D: the Hunter Blaster\\n\"\n",
    "print(Q9)\n",
    "user_choice = input()\n",
    "answerI = \"the brute shot\"\n",
    "if user_choice.lower() == answerI:\n",
    "    SCORE += 1\n",
    "    print(\"\\nCorrect! The Brute Shot was a powerfull cannon only used by the Jiralhanae.\")\n",
    "    print(\"\\nSCORE\"+ str(SCORE))\n",
    "else:\n",
    "    SCORE -= 1\n",
    "    print(\"\\nIncorrect! Try again.\")\n",
    "    print(\"\\nSCORE\"+ str(SCORE))"
   ]
  },
  {
   "cell_type": "code",
   "execution_count": null,
   "metadata": {},
   "outputs": [],
   "source": [
    "Q10 = \"Q: What species created the HALO Array?\\n A: the San'shyuum\\n B: the Flood\\n C: the Huragok\\n D: the Forerunners\"\n",
    "print(Q10)\n",
    "user_choice = input()\n",
    "answerJ = \"the forerunners\"\n",
    "if user_choice.lower() == answerJ:\n",
    "    SCORE += 1\n",
    "    print(\"\\nCorrect! The Forerunners created the HALO Array to rid the universe of the flood.\")\n",
    "    print(\"\\nSCORE\"+ str(SCORE))\n",
    "else:\n",
    "    SCORE -= 1\n",
    "    print(\"\\nIncorrect! Try again.\")\n",
    "    print(\"\\nSCORE\"+ str(SCORE))"
   ]
  },
  {
   "cell_type": "code",
   "execution_count": null,
   "metadata": {},
   "outputs": [],
   "source": [
    "print(\"Final Score...\"+ str(SCORE)+\"!\")\n"
   ]
  }
 ],
 "metadata": {
  "kernelspec": {
   "display_name": "Python 3",
   "language": "python",
   "name": "python3"
  },
  "language_info": {
   "codemirror_mode": {
    "name": "ipython",
    "version": 3
   },
   "file_extension": ".py",
   "mimetype": "text/x-python",
   "name": "python",
   "nbconvert_exporter": "python",
   "pygments_lexer": "ipython3",
   "version": "3.7.3"
  }
 },
 "nbformat": 4,
 "nbformat_minor": 2
}
